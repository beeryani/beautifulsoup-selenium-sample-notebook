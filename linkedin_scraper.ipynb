{
 "cells": [
  {
   "cell_type": "markdown",
   "id": "22014771-5c1d-4dd0-8763-c9393a498e1f",
   "metadata": {},
   "source": [
    "# Scrapping LinkedIn using BeautifulSoup and Selenium"
   ]
  },
  {
   "cell_type": "markdown",
   "id": "59e42ed9-a1da-452a-b33f-4796a4dd2844",
   "metadata": {
    "tags": []
   },
   "source": [
    "## Step 1: Logging into LinkedIn using Selenium Webdriver for Google Chrome"
   ]
  },
  {
   "cell_type": "code",
   "execution_count": null,
   "id": "95f5fd6a-8c3e-4531-9b28-d7ad273151f7",
   "metadata": {
    "tags": []
   },
   "outputs": [],
   "source": [
    "pip install selenium "
   ]
  },
  {
   "cell_type": "code",
   "execution_count": null,
   "id": "d65aad86-35ac-49b5-bdbc-6d5a6061aeaf",
   "metadata": {
    "tags": []
   },
   "outputs": [],
   "source": [
    "pip install beautifulsoup4"
   ]
  },
  {
   "cell_type": "code",
   "execution_count": null,
   "id": "59d583fc-d982-49f6-9134-30c5af2aa7ae",
   "metadata": {
    "tags": []
   },
   "outputs": [],
   "source": [
    "pip install lxml"
   ]
  },
  {
   "cell_type": "code",
   "execution_count": 3,
   "id": "44c738fc-512d-449e-88c9-3f288a21ed90",
   "metadata": {
    "tags": []
   },
   "outputs": [],
   "source": [
    "from selenium import webdriver\n",
    "from selenium.webdriver.common.by import By\n",
    "from bs4 import BeautifulSoup\n",
    "import time"
   ]
  },
  {
   "cell_type": "code",
   "execution_count": null,
   "id": "cab261e2-ccde-44bc-a3a7-018bca2eb555",
   "metadata": {
    "tags": []
   },
   "outputs": [],
   "source": [
    "options = webdriver.ChromeOptions()\n",
    "options.binary_location = \"/Applications/Google Chrome.app/Contents/MacOS/Google Chrome\"\n",
    "chrome_driver_binary = \"vscode/notebooks/chromedriver_mac_arm64/chromedriver\"\n",
    "driver = webdriver.Chrome(chrome_driver_binary, chrome_options=options)"
   ]
  },
  {
   "cell_type": "code",
   "execution_count": null,
   "id": "cf2d1c5c-1a85-4cbe-a319-69996f640e21",
   "metadata": {
    "tags": []
   },
   "outputs": [],
   "source": [
    "driver.get(\"https://linkedin.com/login\")\n",
    " \n",
    "# waiting for the page to load\n",
    "time.sleep(5)\n",
    " \n",
    "# entering username\n",
    "username = driver.find_element(By.ID, \"username\")"
   ]
  },
  {
   "cell_type": "code",
   "execution_count": null,
   "id": "2367f253-c6a1-4314-8c45-838c586a4a7d",
   "metadata": {
    "tags": []
   },
   "outputs": [],
   "source": [
    "username.send_keys(\"user_email\") #enter user email\n",
    " \n",
    "# entering password\n",
    "pword = driver.find_element(By.ID, \"password\")"
   ]
  },
  {
   "cell_type": "code",
   "execution_count": null,
   "id": "e35b017c-037b-4eaf-99ca-56fccfb5fdb4",
   "metadata": {
    "tags": []
   },
   "outputs": [],
   "source": [
    "pword.send_keys(\"user_password\") #enter user password\n",
    " \n",
    "# Clicking on the log in button\n",
    "# Format (syntax) of writing XPath -->\n",
    "# //tagname[@attribute='value']\n",
    "driver.find_element(By.XPATH, \"//button[@type='submit']\").click()"
   ]
  },
  {
   "cell_type": "markdown",
   "id": "31a16325-dea9-40bc-b5bd-c60fd6ffc323",
   "metadata": {},
   "source": [
    "## Step 2: Extracting Profile Data"
   ]
  },
  {
   "cell_type": "code",
   "execution_count": 15,
   "id": "0f3f5cb7-6394-4f28-affc-2f26454a8cc7",
   "metadata": {
    "tags": []
   },
   "outputs": [],
   "source": [
    "profile_url = \"PROFILE_URL_YOU_WANT_TO_SCRAPE\"\n",
    " \n",
    "driver.get(profile_url)   "
   ]
  },
  {
   "cell_type": "code",
   "execution_count": 16,
   "id": "ce4d6330-4b6b-4003-8d46-f5cede582317",
   "metadata": {
    "tags": []
   },
   "outputs": [],
   "source": [
    "start = time.time()\n",
    "\n",
    "# will be used in the while loop\n",
    "initialScroll = 0\n",
    "finalScroll = 1000\n",
    "\n",
    "while True:\n",
    "\tdriver.execute_script(f\"window.scrollTo({initialScroll},{finalScroll})\")\n",
    "\t# this command scrolls the window starting from\n",
    "\t# the pixel value stored in the initialScroll\n",
    "\t# variable to the pixel value stored at the\n",
    "\t# finalScroll variable\n",
    "\tinitialScroll = finalScroll\n",
    "\tfinalScroll += 1000\n",
    "\n",
    "\t# we will stop the script for 3 seconds so that\n",
    "\t# the data can load\n",
    "\ttime.sleep(3)\n",
    "\t# You can change it as per your needs and internet speed\n",
    "\n",
    "\tend = time.time()\n",
    "\n",
    "\t# We will scroll for 20 seconds.\n",
    "\t# You can change it as per your needs and internet speed\n",
    "\tif round(end - start) > 20:\n",
    "\t\tbreak\n"
   ]
  },
  {
   "cell_type": "code",
   "execution_count": 17,
   "id": "4d4c0fa0-1058-4bcc-aae1-84124ec4cbcf",
   "metadata": {
    "tags": []
   },
   "outputs": [],
   "source": [
    "import lxml"
   ]
  },
  {
   "cell_type": "code",
   "execution_count": 18,
   "id": "d2471b0b-366d-4ee4-b825-15e995c27647",
   "metadata": {
    "tags": []
   },
   "outputs": [],
   "source": [
    "src = driver.page_source\n",
    "\n",
    "# Now using beautiful soup\n",
    "soup = BeautifulSoup(src, \"lxml\")"
   ]
  },
  {
   "cell_type": "code",
   "execution_count": null,
   "id": "c4903f29",
   "metadata": {},
   "outputs": [],
   "source": [
    "# Extracting the HTML of the complete introduction box\n",
    "# that contains the name, company name, and the location\n",
    "intro = soup.find('div', {'class': 'pv-text-details__left-panel'})\n",
    "\n",
    "print(intro)"
   ]
  },
  {
   "cell_type": "code",
   "execution_count": null,
   "id": "16bcc1ab",
   "metadata": {
    "scrolled": true
   },
   "outputs": [],
   "source": [
    "# In case of an error, try changing the tags used here.\n",
    "\n",
    "name_loc = intro.find(\"h1\")\n",
    "\n",
    "# Extracting the Name\n",
    "name = name_loc.get_text().strip()\n",
    "# strip() is used to remove any extra blank spaces\n",
    "\n",
    "works_at_loc = intro.find(\"div\", {'class': 'text-body-medium'})\n",
    "\n",
    "# this gives us the HTML of the tag in which the Company Name is present\n",
    "# Extracting the Company Name\n",
    "works_at = works_at_loc.get_text().strip()\n",
    "\n",
    "\n",
    "location_loc = intro.find_all(\"span\", {'class': 'text-body-small'})\n",
    "\n",
    "# Ectracting the Location\n",
    "# The 2nd element in the location_loc variable has the location\n",
    "# location = location_loc[1].get_text().strip()\n",
    "\n",
    "print(\"Name -->\", name,\n",
    "\t\"\\nWorks At -->\", works_at)\n",
    "# \t\"\\nLocation -->\", location"
   ]
  },
  {
   "cell_type": "code",
   "execution_count": null,
   "id": "28c17360",
   "metadata": {},
   "outputs": [],
   "source": [
    "# Getting the HTML of the Experience section in the profile\n",
    "experience = soup.find(\"div\", {\"class\": \"pvs-list__outer-container\"}).find('ul')\n",
    "\n",
    "print(experience)"
   ]
  }
 ],
 "metadata": {
  "kernelspec": {
   "display_name": "Python 3 (ipykernel)",
   "language": "python",
   "name": "python3"
  },
  "language_info": {
   "codemirror_mode": {
    "name": "ipython",
    "version": 3
   },
   "file_extension": ".py",
   "mimetype": "text/x-python",
   "name": "python",
   "nbconvert_exporter": "python",
   "pygments_lexer": "ipython3",
   "version": "3.8.16"
  }
 },
 "nbformat": 4,
 "nbformat_minor": 5
}
